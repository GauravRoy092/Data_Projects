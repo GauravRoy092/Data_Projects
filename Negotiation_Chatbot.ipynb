{
 "cells": [
  {
   "cell_type": "code",
   "execution_count": 2,
   "metadata": {
    "colab": {
     "base_uri": "https://localhost:8080/"
    },
    "id": "tTqsTLy4OQ2U",
    "outputId": "cf8cb516-f891-4962-96d9-809b0f1621b4"
   },
   "outputs": [
    {
     "name": "stdout",
     "output_type": "stream",
     "text": [
      "Requirement already satisfied: openai in d:\\anaconda\\lib\\site-packages (1.45.0)\n",
      "Requirement already satisfied: anyio<5,>=3.5.0 in d:\\anaconda\\lib\\site-packages (from openai) (4.2.0)\n",
      "Requirement already satisfied: distro<2,>=1.7.0 in d:\\anaconda\\lib\\site-packages (from openai) (1.9.0)\n",
      "Requirement already satisfied: httpx<1,>=0.23.0 in d:\\anaconda\\lib\\site-packages (from openai) (0.27.0)\n",
      "Requirement already satisfied: jiter<1,>=0.4.0 in d:\\anaconda\\lib\\site-packages (from openai) (0.5.0)\n",
      "Requirement already satisfied: pydantic<3,>=1.9.0 in d:\\anaconda\\lib\\site-packages (from openai) (2.5.3)\n",
      "Requirement already satisfied: sniffio in d:\\anaconda\\lib\\site-packages (from openai) (1.3.0)\n",
      "Requirement already satisfied: tqdm>4 in d:\\anaconda\\lib\\site-packages (from openai) (4.66.4)\n",
      "Requirement already satisfied: typing-extensions<5,>=4.11 in d:\\anaconda\\lib\\site-packages (from openai) (4.11.0)\n",
      "Requirement already satisfied: idna>=2.8 in d:\\anaconda\\lib\\site-packages (from anyio<5,>=3.5.0->openai) (3.7)\n",
      "Requirement already satisfied: certifi in d:\\anaconda\\lib\\site-packages (from httpx<1,>=0.23.0->openai) (2024.7.4)\n",
      "Requirement already satisfied: httpcore==1.* in d:\\anaconda\\lib\\site-packages (from httpx<1,>=0.23.0->openai) (1.0.2)\n",
      "Requirement already satisfied: h11<0.15,>=0.13 in d:\\anaconda\\lib\\site-packages (from httpcore==1.*->httpx<1,>=0.23.0->openai) (0.14.0)\n",
      "Requirement already satisfied: annotated-types>=0.4.0 in d:\\anaconda\\lib\\site-packages (from pydantic<3,>=1.9.0->openai) (0.6.0)\n",
      "Requirement already satisfied: pydantic-core==2.14.6 in d:\\anaconda\\lib\\site-packages (from pydantic<3,>=1.9.0->openai) (2.14.6)\n",
      "Requirement already satisfied: colorama in d:\\anaconda\\lib\\site-packages (from tqdm>4->openai) (0.4.6)\n"
     ]
    }
   ],
   "source": [
    "!pip install openai"
   ]
  },
  {
   "cell_type": "code",
   "execution_count": 4,
   "metadata": {
    "colab": {
     "base_uri": "https://localhost:8080/"
    },
    "id": "0V1TcXIGOTpx",
    "outputId": "d0a4f724-29f3-453c-e40f-7ca6b6191fff"
   },
   "outputs": [
    {
     "name": "stdout",
     "output_type": "stream",
     "text": [
      "Collecting textblob\n",
      "  Downloading textblob-0.18.0.post0-py3-none-any.whl.metadata (4.5 kB)\n",
      "Requirement already satisfied: nltk>=3.8 in d:\\anaconda\\lib\\site-packages (from textblob) (3.8.1)\n",
      "Requirement already satisfied: click in d:\\anaconda\\lib\\site-packages (from nltk>=3.8->textblob) (8.1.7)\n",
      "Requirement already satisfied: joblib in d:\\anaconda\\lib\\site-packages (from nltk>=3.8->textblob) (1.4.2)\n",
      "Requirement already satisfied: regex>=2021.8.3 in d:\\anaconda\\lib\\site-packages (from nltk>=3.8->textblob) (2023.10.3)\n",
      "Requirement already satisfied: tqdm in d:\\anaconda\\lib\\site-packages (from nltk>=3.8->textblob) (4.66.4)\n",
      "Requirement already satisfied: colorama in d:\\anaconda\\lib\\site-packages (from click->nltk>=3.8->textblob) (0.4.6)\n",
      "Downloading textblob-0.18.0.post0-py3-none-any.whl (626 kB)\n",
      "   ---------------------------------------- 0.0/626.3 kB ? eta -:--:--\n",
      "   ---------------------------------------- 0.0/626.3 kB ? eta -:--:--\n",
      "   - -------------------------------------- 30.7/626.3 kB 1.3 MB/s eta 0:00:01\n",
      "   ----- ---------------------------------- 92.2/626.3 kB 1.3 MB/s eta 0:00:01\n",
      "   --------- ------------------------------ 143.4/626.3 kB 1.2 MB/s eta 0:00:01\n",
      "   ------------ --------------------------- 194.6/626.3 kB 1.3 MB/s eta 0:00:01\n",
      "   -------------- ------------------------- 225.3/626.3 kB 1.3 MB/s eta 0:00:01\n",
      "   -------------- ------------------------- 225.3/626.3 kB 1.3 MB/s eta 0:00:01\n",
      "   -------------- ------------------------- 225.3/626.3 kB 1.3 MB/s eta 0:00:01\n",
      "   -------------- ----------------------- 245.8/626.3 kB 752.5 kB/s eta 0:00:01\n",
      "   ------------------ ------------------- 297.0/626.3 kB 733.3 kB/s eta 0:00:01\n",
      "   ---------------------- --------------- 368.6/626.3 kB 849.3 kB/s eta 0:00:01\n",
      "   ---------------------------------- ----- 532.5/626.3 kB 1.1 MB/s eta 0:00:01\n",
      "   ---------------------------------------- 626.3/626.3 kB 1.2 MB/s eta 0:00:00\n",
      "Installing collected packages: textblob\n",
      "Successfully installed textblob-0.18.0.post0\n"
     ]
    }
   ],
   "source": [
    "!pip install textblob"
   ]
  },
  {
   "cell_type": "code",
   "execution_count": 6,
   "metadata": {
    "id": "tePBgWCxOfZk"
   },
   "outputs": [],
   "source": [
    "import openai\n",
    "from textblob import TextBlob"
   ]
  },
  {
   "cell_type": "code",
   "execution_count": 7,
   "metadata": {
    "id": "xkDcp3OBOjD0"
   },
   "outputs": [],
   "source": [
    "def get_user_input(prompt):\n",
    "    return input(prompt)"
   ]
  },
  {
   "cell_type": "code",
   "execution_count": 8,
   "metadata": {
    "id": "JeADpzb2OnBj"
   },
   "outputs": [],
   "source": [
    "def analyze_sentiment(text):\n",
    "    blob = TextBlob(text)\n",
    "    sentiment = blob.sentiment.polarity\n",
    "    if sentiment > 0.1:\n",
    "        return \"positive\"\n",
    "    elif sentiment < -0.1:\n",
    "        return \"negative\"\n",
    "    else:\n",
    "        return \"neutral\""
   ]
  },
  {
   "cell_type": "code",
   "execution_count": 14,
   "metadata": {
    "id": "lIg-sh8JOp9z"
   },
   "outputs": [],
   "source": [
    "def negotiate_price(actual_price, discount):\n",
    "    while True:\n",
    "        user_offer = float(get_user_input(f\"The actual price of Asus Laptop is ${actual_price}. How much would you like to offer? \"))\n",
    "        counter_offer = max(actual_price * (1 - discount / 100), user_offer + 2)\n",
    "        print(f\"Supplier's counter-offer: ${counter_offer:.2f} (after {discount}% discount)\")\n",
    "\n",
    "        response = get_user_input(\"Do you accept this offer? (yes/no) \")\n",
    "        sentiment = analyze_sentiment(response)\n",
    "        print(f\"User's sentiment: {sentiment}\")\n",
    "        if response.lower() == 'yes':\n",
    "            print(\"Done deal!\")\n",
    "            break\n",
    "        else:\n",
    "            if sentiment == \"negative\":\n",
    "                discount += 3  # Give a higher discount if the user is unhappy\n",
    "            else:\n",
    "                discount += 2  # Normal discount increase\n",
    "            print(f\"Discount increased to {discount}%.Let's continue negotiating.\")"
   ]
  },
  {
   "cell_type": "code",
   "execution_count": 16,
   "metadata": {
    "colab": {
     "base_uri": "https://localhost:8080/"
    },
    "id": "TbIsRPm0OuEL",
    "outputId": "0aa20e30-79fc-45c8-c859-9f0c56342544"
   },
   "outputs": [
    {
     "name": "stdin",
     "output_type": "stream",
     "text": [
      "The actual price of Asus Laptop is $100. How much would you like to offer?  70\n"
     ]
    },
    {
     "name": "stdout",
     "output_type": "stream",
     "text": [
      "Supplier's counter-offer: $90.00 (after 10% discount)\n"
     ]
    },
    {
     "name": "stdin",
     "output_type": "stream",
     "text": [
      "Do you accept this offer? (yes/no)  75\n"
     ]
    },
    {
     "name": "stdout",
     "output_type": "stream",
     "text": [
      "User's sentiment: neutral\n",
      "Discount increased to 12%.Let's continue negotiating.\n"
     ]
    },
    {
     "name": "stdin",
     "output_type": "stream",
     "text": [
      "The actual price of Asus Laptop is $100. How much would you like to offer?  78\n"
     ]
    },
    {
     "name": "stdout",
     "output_type": "stream",
     "text": [
      "Supplier's counter-offer: $88.00 (after 12% discount)\n"
     ]
    },
    {
     "name": "stdin",
     "output_type": "stream",
     "text": [
      "Do you accept this offer? (yes/no)  80\n"
     ]
    },
    {
     "name": "stdout",
     "output_type": "stream",
     "text": [
      "User's sentiment: neutral\n",
      "Discount increased to 14%.Let's continue negotiating.\n"
     ]
    },
    {
     "name": "stdin",
     "output_type": "stream",
     "text": [
      "The actual price of Asus Laptop is $100. How much would you like to offer?  80\n"
     ]
    },
    {
     "name": "stdout",
     "output_type": "stream",
     "text": [
      "Supplier's counter-offer: $86.00 (after 14% discount)\n"
     ]
    },
    {
     "name": "stdin",
     "output_type": "stream",
     "text": [
      "Do you accept this offer? (yes/no)  82\n"
     ]
    },
    {
     "name": "stdout",
     "output_type": "stream",
     "text": [
      "User's sentiment: neutral\n",
      "Discount increased to 16%.Let's continue negotiating.\n"
     ]
    },
    {
     "name": "stdin",
     "output_type": "stream",
     "text": [
      "The actual price of Asus Laptop is $100. How much would you like to offer?  84\n"
     ]
    },
    {
     "name": "stdout",
     "output_type": "stream",
     "text": [
      "Supplier's counter-offer: $86.00 (after 16% discount)\n"
     ]
    },
    {
     "name": "stdin",
     "output_type": "stream",
     "text": [
      "Do you accept this offer? (yes/no)  yes\n"
     ]
    },
    {
     "name": "stdout",
     "output_type": "stream",
     "text": [
      "User's sentiment: neutral\n",
      "Done deal!\n"
     ]
    }
   ],
   "source": [
    "actual_price = 100 # Example price\n",
    "discount = 10 # Example discount\n",
    "\n",
    "negotiate_price(actual_price, discount)"
   ]
  },
  {
   "cell_type": "code",
   "execution_count": null,
   "metadata": {
    "id": "BiMoHW-5Ow3S"
   },
   "outputs": [],
   "source": []
  }
 ],
 "metadata": {
  "colab": {
   "provenance": []
  },
  "kernelspec": {
   "display_name": "Python 3 (ipykernel)",
   "language": "python",
   "name": "python3"
  },
  "language_info": {
   "codemirror_mode": {
    "name": "ipython",
    "version": 3
   },
   "file_extension": ".py",
   "mimetype": "text/x-python",
   "name": "python",
   "nbconvert_exporter": "python",
   "pygments_lexer": "ipython3",
   "version": "3.12.4"
  }
 },
 "nbformat": 4,
 "nbformat_minor": 4
}
